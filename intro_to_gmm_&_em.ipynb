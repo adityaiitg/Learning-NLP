{
  "cells": [
    {
      "cell_type": "markdown",
      "metadata": {
        "id": "view-in-github",
        "colab_type": "text"
      },
      "source": [
        "<a href=\"https://colab.research.google.com/github/adityaiitg/Learning-NLP/blob/main/intro_to_gmm_%26_em.ipynb\" target=\"_parent\"><img src=\"https://colab.research.google.com/assets/colab-badge.svg\" alt=\"Open In Colab\"/></a>"
      ]
    },
    {
      "cell_type": "markdown",
      "metadata": {
        "id": "M3Ij9lHX1KNK"
      },
      "source": [
        "# Gaussian Mixture Models\n",
        "\n",
        "## Definitions\n",
        "A Gaussian Mixture is a function that is comprised of several Gaussians, each identified by k ∈ {1,…, K}, where K is the number of clusters of our dataset. Each Gaussian k in the mixture is comprised of the following parameters:\n",
        "\n",
        "* A mean μ that defines its centre.\n",
        "* A covariance Σ that defines its width. This would be equivalent to the dimensions of an ellipsoid in a multivariate scenario.\n",
        "* A mixing probability π that defines how big or small the Gaussian function will be.\n",
        "\n",
        "![Image](https://miro.medium.com/max/1400/1*lTv7e4Cdlp738X_WFZyZHA.png)\n",
        "\n",
        "## First -- What is a Gaussian?\n",
        "\n",
        "## A Distribution is a listing of outcomes of an experiment and the probability associated with each outcome\n",
        "\n",
        "\n",
        "![alt text](https://upload.wikimedia.org/wikipedia/commons/thumb/a/a9/Empirical_Rule.PNG/450px-Empirical_Rule.PNG \"Logo Title Text 1\")\n",
        "\n",
        "![alt text](https://thecuriousastronomer.files.wordpress.com/2014/06/1000px-normal_distribution_pdf-svg.png \"Logo Title Text 1\")\n",
        "\n",
        "![alt text](http://i.imgur.com/iDNiL13.jpg \"Logo Title Text 1\")\n",
        "\n",
        "The formula for a gaussian distribution - This is also called the probability density function. It's a function of a continuous random variable, whose integral across an interval gives the probability that the value of the variable lies within the same interval.\n",
        "\n",
        "## What is a Gaussian Mixture Model?\n",
        "\n",
        "It's a probability distribution that consists of multiple probability distributions.\n",
        "\n",
        "![alt text](http://i.imgur.com/F8Df1m3.png \"Logo Title Text 1\")\n",
        "\n",
        "Covariance is a measure of how changes in one variable are associated with changes in a second variable. Specifically, covariance measures the degree to which two variables are linearly associated. However, it is also often used informally as a general measure of how monotonically related two variables are.\n",
        "\n",
        "![alt text](http://i.imgur.com/tBtZ0W4.png \"Logo Title Text 1\")\n",
        "\n",
        "![alt text](http://i.imgur.com/750NscW.png \"Logo Title Text 1\")\n",
        "\n",
        "![alt text](http://4.bp.blogspot.com/-zuCQBrN8990/VGt45PZHXhI/AAAAAAAAA1E/jtQQaAj-PMc/s1600/gmm2.png \"Logo Title Text 1\")\n",
        "\n",
        "![alt text](http://dirichletprocess.weebly.com/uploads/1/9/8/4/19847957/3346416.png?1367446693 \"Logo Title Text 1\")\n",
        "\n",
        "![alt text](http://i.imgur.com/0vZg6NX.png \"Logo Title Text 1\")\n",
        "\n",
        "![alt text](http://recognize-speech.com/images/robert/gmm_intro/mvg1.png \"Logo Title Text 1\")\n",
        "\n",
        "It's similar to K means in that\n",
        "\n",
        "![alt text](http://i.imgur.com/y5PeNL0.png \"Logo Title Text 1\")\n",
        "Hard vs Soft Assignment. Hard might lead to mis grouping.\n",
        "\n",
        "Guassian Mixture:\n",
        "\n",
        "Instead of Hard assgning data points to a cluster, if we are uncertain about the data points where they belong or to which group, we use this method. It uses probability of a sample to determine the feasibility of it belonging to a cluster.\n",
        "\n",
        "## How is it Optimized?\n",
        "\n",
        "The Expecation Maximization Algorithm!\n",
        "\n",
        "![alt text](http://i.imgur.com/B5HgxrH.png \"Logo Title Text 1\")\n",
        "\n",
        "#### Comparing to Gradient Descent \n",
        "You can obtain maximum likelihood estimates using different methods and using an optimization algorithm is one of them. On another hand, gradient descent can be also used to maximize functions other than likelihood function.\n",
        "\n",
        "## When Should I Use it?\n",
        "\n",
        "Anytime you have unlabeled data and want to classify it. If data is normally distributed. \n",
        "\n",
        "Predicting Customer Churn\n",
        "Anomaly Detection\n",
        "Object Tracking\n",
        "![alt text](http://i.imgur.com/cm0UxfF.png \"Logo Title Text 1\")\n",
        "\n",
        "## Related repositories\n",
        "\n",
        "https://github.com/benathi/word2gm Uses tensorflow + GMM to classify song lyrics by genre\n",
        "https://github.com/GaborLengyel/Finite-Gaussian-Mixture-models/blob/master/Finite%20Gaussian%20Mixture%20models.ipynb \n",
        "great general purpose tutorial\n"
      ]
    },
    {
      "cell_type": "markdown",
      "metadata": {
        "id": "HHhTSFHN1KNO"
      },
      "source": [
        "Import Dependencies and test out a distribution graph\n",
        "------\n"
      ]
    },
    {
      "cell_type": "code",
      "execution_count": null,
      "metadata": {
        "collapsed": true,
        "id": "U8OzOz0I1KNO"
      },
      "outputs": [],
      "source": [
        "reset -fs"
      ]
    },
    {
      "cell_type": "code",
      "execution_count": null,
      "metadata": {
        "collapsed": true,
        "id": "IRHwx7k_1KNP"
      },
      "outputs": [],
      "source": [
        "#For plotting\n",
        "import matplotlib.pyplot as plt\n",
        "#for matrix math\n",
        "import numpy as np\n",
        "#for normalization + probability density function computation\n",
        "from scipy import stats\n",
        "#for plotting\n",
        "import seaborn as sns\n",
        "sns.set_style(\"white\")\n",
        "%matplotlib inline"
      ]
    },
    {
      "cell_type": "code",
      "execution_count": null,
      "metadata": {
        "colab": {
          "base_uri": "https://localhost:8080/",
          "height": 283
        },
        "id": "LCWplEMI1KNP",
        "outputId": "28a5c259-26fe-4f05-8e23-838de272a63c"
      },
      "outputs": [
        {
          "output_type": "execute_result",
          "data": {
            "text/plain": [
              "[<matplotlib.lines.Line2D at 0x7f38e71827d0>]"
            ]
          },
          "metadata": {},
          "execution_count": 3
        },
        {
          "output_type": "display_data",
          "data": {
            "text/plain": [
              "<Figure size 432x288 with 1 Axes>"
            ],
            "image/png": "[encoded data removed]"
          },
          "metadata": {
            "needs_background": "light"
          }
        }
      ],
      "source": [
        "#Return evenly spaced numbers over a specified interval.\n",
        "x = np.linspace(start=-10, stop=10, num=1000)\n",
        "#A normal continuous random variable.\n",
        "#The location (loc) keyword specifies the mean. The scale (scale) keyword specifies the standard deviation.\n",
        "y = stats.norm.pdf(x, loc=0, scale=1.5) \n",
        "#plot it!\n",
        "plt.plot(x, y)"
      ]
    },
    {
      "cell_type": "code",
      "execution_count": null,
      "metadata": {
        "collapsed": true,
        "id": "tWid6y8Z1KNQ"
      },
      "outputs": [],
      "source": [
        "#for data preprocessing\n",
        "import pandas as pd"
      ]
    },
    {
      "cell_type": "code",
      "execution_count": null,
      "metadata": {
        "colab": {
          "base_uri": "https://localhost:8080/",
          "height": 206
        },
        "id": "lKqW4yHO1KNR",
        "outputId": "80f2ddb7-7a4b-47fb-a87e-968419ae2738"
      },
      "outputs": [
        {
          "output_type": "execute_result",
          "data": {
            "text/plain": [
              "          x\n",
              "0  0.252851\n",
              "1 -1.034562\n",
              "2  3.319558\n",
              "3  4.552363\n",
              "4 -0.775995"
            ],
            "text/html": [
              "\n",
              "  <div id=\"df-4857eeae-610f-47ab-ba2d-b31e61dd4189\">\n",
              "    <div class=\"colab-df-container\">\n",
              "      <div>\n",
              "<style scoped>\n",
              "    .dataframe tbody tr th:only-of-type {\n",
              "        vertical-align: middle;\n",
              "    }\n",
              "\n",
              "    .dataframe tbody tr th {\n",
              "        vertical-align: top;\n",
              "    }\n",
              "\n",
              "    .dataframe thead th {\n",
              "        text-align: right;\n",
              "    }\n",
              "</style>\n",
              "<table border=\"1\" class=\"dataframe\">\n",
              "  <thead>\n",
              "    <tr style=\"text-align: right;\">\n",
              "      <th></th>\n",
              "      <th>x</th>\n",
              "    </tr>\n",
              "  </thead>\n",
              "  <tbody>\n",
              "    <tr>\n",
              "      <th>0</th>\n",
              "      <td>0.252851</td>\n",
              "    </tr>\n",
              "    <tr>\n",
              "      <th>1</th>\n",
              "      <td>-1.034562</td>\n",
              "    </tr>\n",
              "    <tr>\n",
              "      <th>2</th>\n",
              "      <td>3.319558</td>\n",
              "    </tr>\n",
              "    <tr>\n",
              "      <th>3</th>\n",
              "      <td>4.552363</td>\n",
              "    </tr>\n",
              "    <tr>\n",
              "      <th>4</th>\n",
              "      <td>-0.775995</td>\n",
              "    </tr>\n",
              "  </tbody>\n",
              "</table>\n",
              "</div>\n",
              "      <button class=\"colab-df-convert\" onclick=\"convertToInteractive('df-4857eeae-610f-47ab-ba2d-b31e61dd4189')\"\n",
              "              title=\"Convert this dataframe to an interactive table.\"\n",
              "              style=\"display:none;\">\n",
              "        \n",
              "  <svg xmlns=\"http://www.w3.org/2000/svg\" height=\"24px\"viewBox=\"0 0 24 24\"\n",
              "       width=\"24px\">\n",
              "    <path d=\"M0 0h24v24H0V0z\" fill=\"none\"/>\n",
              "    <path d=\"M18.56 5.44l.94 2.06.94-2.06 2.06-.94-2.06-.94-.94-2.06-.94 2.06-2.06.94zm-11 1L8.5 8.5l.94-2.06 2.06-.94-2.06-.94L8.5 2.5l-.94 2.06-2.06.94zm10 10l.94 2.06.94-2.06 2.06-.94-2.06-.94-.94-2.06-.94 2.06-2.06.94z\"/><path d=\"M17.41 7.96l-1.37-1.37c-.4-.4-.92-.59-1.43-.59-.52 0-1.04.2-1.43.59L10.3 9.45l-7.72 7.72c-.78.78-.78 2.05 0 2.83L4 21.41c.39.39.9.59 1.41.59.51 0 1.02-.2 1.41-.59l7.78-7.78 2.81-2.81c.8-.78.8-2.07 0-2.86zM5.41 20L4 18.59l7.72-7.72 1.47 1.35L5.41 20z\"/>\n",
              "  </svg>\n",
              "      </button>\n",
              "      \n",
              "  <style>\n",
              "    .colab-df-container {\n",
              "      display:flex;\n",
              "      flex-wrap:wrap;\n",
              "      gap: 12px;\n",
              "    }\n",
              "\n",
              "    .colab-df-convert {\n",
              "      background-color: #E8F0FE;\n",
              "      border: none;\n",
              "      border-radius: 50%;\n",
              "      cursor: pointer;\n",
              "      display: none;\n",
              "      fill: #1967D2;\n",
              "      height: 32px;\n",
              "      padding: 0 0 0 0;\n",
              "      width: 32px;\n",
              "    }\n",
              "\n",
              "    .colab-df-convert:hover {\n",
              "      background-color: #E2EBFA;\n",
              "      box-shadow: 0px 1px 2px rgba(60, 64, 67, 0.3), 0px 1px 3px 1px rgba(60, 64, 67, 0.15);\n",
              "      fill: #174EA6;\n",
              "    }\n",
              "\n",
              "    [theme=dark] .colab-df-convert {\n",
              "      background-color: #3B4455;\n",
              "      fill: #D2E3FC;\n",
              "    }\n",
              "\n",
              "    [theme=dark] .colab-df-convert:hover {\n",
              "      background-color: #434B5C;\n",
              "      box-shadow: 0px 1px 3px 1px rgba(0, 0, 0, 0.15);\n",
              "      filter: drop-shadow(0px 1px 2px rgba(0, 0, 0, 0.3));\n",
              "      fill: #FFFFFF;\n",
              "    }\n",
              "  </style>\n",
              "\n",
              "      <script>\n",
              "        const buttonEl =\n",
              "          document.querySelector('#df-4857eeae-610f-47ab-ba2d-b31e61dd4189 button.colab-df-convert');\n",
              "        buttonEl.style.display =\n",
              "          google.colab.kernel.accessAllowed ? 'block' : 'none';\n",
              "\n",
              "        async function convertToInteractive(key) {\n",
              "          const element = document.querySelector('#df-4857eeae-610f-47ab-ba2d-b31e61dd4189');\n",
              "          const dataTable =\n",
              "            await google.colab.kernel.invokeFunction('convertToInteractive',\n",
              "                                                     [key], {});\n",
              "          if (!dataTable) return;\n",
              "\n",
              "          const docLinkHtml = 'Like what you see? Visit the ' +\n",
              "            '<a target=\"_blank\" href=https://colab.research.google.com/notebooks/data_table.ipynb>data table notebook</a>'\n",
              "            + ' to learn more about interactive tables.';\n",
              "          element.innerHTML = '';\n",
              "          dataTable['output_type'] = 'display_data';\n",
              "          await google.colab.output.renderOutput(dataTable, element);\n",
              "          const docLink = document.createElement('div');\n",
              "          docLink.innerHTML = docLinkHtml;\n",
              "          element.appendChild(docLink);\n",
              "        }\n",
              "      </script>\n",
              "    </div>\n",
              "  </div>\n",
              "  "
            ]
          },
          "metadata": {},
          "execution_count": 7
        }
      ],
      "source": [
        "#read our dataset\n",
        "df = pd.read_csv(\"bimodal_example.csv\")\n",
        "#show first 5 examples (in BTC)\n",
        "df.head(n=5)"
      ]
    },
    {
      "cell_type": "code",
      "execution_count": null,
      "metadata": {
        "collapsed": true,
        "id": "9MgOCif71KNR"
      },
      "outputs": [],
      "source": [
        "#show the distribution of the data as a histogram\n",
        "data = df.x"
      ]
    },
    {
      "cell_type": "code",
      "source": [
        "data"
      ],
      "metadata": {
        "colab": {
          "base_uri": "https://localhost:8080/"
        },
        "id": "R8yK5OqE8EKv",
        "outputId": "c200c828-fdd4-4e68-d881-994c0d3e9349"
      },
      "execution_count": null,
      "outputs": [
        {
          "output_type": "execute_result",
          "data": {
            "text/plain": [
              "0     0.252851\n",
              "1    -1.034562\n",
              "2     3.319558\n",
              "3     4.552363\n",
              "4    -0.775995\n",
              "        ...   \n",
              "95   -1.064411\n",
              "96    3.704321\n",
              "97    2.937206\n",
              "98    1.100278\n",
              "99    2.652242\n",
              "Name: x, Length: 100, dtype: float64"
            ]
          },
          "metadata": {},
          "execution_count": 9
        }
      ]
    },
    {
      "cell_type": "code",
      "execution_count": null,
      "metadata": {
        "colab": {
          "base_uri": "https://localhost:8080/",
          "height": 353
        },
        "id": "MYVZRoST1KNS",
        "outputId": "4913aaa1-067e-4237-ca99-3862fe22da14"
      },
      "outputs": [
        {
          "output_type": "stream",
          "name": "stderr",
          "text": [
            "/usr/local/lib/python3.7/dist-packages/seaborn/distributions.py:2619: FutureWarning: `distplot` is a deprecated function and will be removed in a future version. Please adapt your code to use either `displot` (a figure-level function with similar flexibility) or `histplot` (an axes-level function for histograms).\n",
            "  warnings.warn(msg, FutureWarning)\n"
          ]
        },
        {
          "output_type": "execute_result",
          "data": {
            "text/plain": [
              "<matplotlib.axes._subplots.AxesSubplot at 0x7f38e8541fd0>"
            ]
          },
          "metadata": {},
          "execution_count": 10
        },
        {
          "output_type": "display_data",
          "data": {
            "text/plain": [
              "<Figure size 432x288 with 1 Axes>"
            ],
            "image/png": "[encoded data removed]"
          },
          "metadata": {
            "needs_background": "light"
          }
        }
      ],
      "source": [
        "#plot histogram\n",
        "sns.distplot(data, bins=20, kde=False)"
      ]
    },
    {
      "cell_type": "markdown",
      "metadata": {
        "id": "WxTY0CFA1KNS"
      },
      "source": [
        "Is the normal distribution a useful model for the data?"
      ]
    },
    {
      "cell_type": "code",
      "execution_count": null,
      "metadata": {
        "id": "NAUsYZFM1KNS",
        "outputId": "28c0ebd0-d7b9-4030-eb12-338aafcbe2e2"
      },
      "outputs": [
        {
          "data": {
            "text/plain": [
              "<matplotlib.axes._subplots.AxesSubplot at 0x109074550>"
            ]
          },
          "execution_count": 30,
          "metadata": {},
          "output_type": "execute_result"
        },
        {
          "data": {
            "image/png": "[encoded data removed]",
            "text/plain": [
              "<matplotlib.figure.Figure at 0x109064990>"
            ]
          },
          "metadata": {},
          "output_type": "display_data"
        }
      ],
      "source": [
        "#try to fit a normal distribution to this data\n",
        "sns.distplot(data, fit=stats.norm, bins=20, kde=False,)"
      ]
    },
    {
      "cell_type": "markdown",
      "metadata": {
        "id": "KYez_x2t1KNS"
      },
      "source": [
        "<br>\n",
        "<br> \n",
        "<br>\n",
        "\n",
        "----\n",
        "Define The Model\n",
        "-----\n",
        "\n",
        "Two Normal distributions $N(\\mu_1, \\sigma_1^2)$ and $N(\\mu_2, \\sigma_2^2)$. \n",
        "\n",
        "There are 5 paramaters: 4 of the them are Normal distributions and 1 more for the probability of choosing one of them.\n",
        "\n",
        "Let $w$ be the probability that the data comes from the first Normal, the parameter in this model is $\\theta = (w, \\mu_1, \\sigma_1^2, \\mu_2, \\sigma_2^2)$.\n",
        "\n",
        "The probability density function (PDF) is:\n",
        "\n",
        "$$f(x | \\theta) = w \\  f_1(x \\ | \\  \\mu_1, \\sigma_1^2) + (1 - w) \\  f_2 (x  \\ | \\  \\mu_2, \\sigma_2^2) $$  "
      ]
    },
    {
      "cell_type": "markdown",
      "metadata": {
        "id": "ony9Kr0z1KNT"
      },
      "source": [
        "Fit The Model\n",
        "-----"
      ]
    },
    {
      "cell_type": "markdown",
      "metadata": {
        "id": "lO5YGn4p1KNT"
      },
      "source": [
        "Expectation–Maximization (EM) Algorithm  "
      ]
    },
    {
      "cell_type": "markdown",
      "metadata": {
        "id": "O4-TwJWw1KNT"
      },
      "source": [
        "What is Expectation–Maximization (EM) algorithm?\n",
        "------\n",
        "\n",
        "An iterative method for finding maximum likelihood (MLE) or maximum a posteriori (MAP) estimates of parameters in statistical models,when the model depends on unobserved latent variables"
      ]
    },
    {
      "cell_type": "markdown",
      "metadata": {
        "id": "nHZzIiuw1KNU"
      },
      "source": [
        "Alternates between performing:\n",
        "\n",
        "- __Expectation (E)__ step: Given the current parameters of the model, estimate a probability distribution.\n",
        "\n",
        "- __Maximization (M)__ step: Given the current data, estimate the parameters to update the model."
      ]
    },
    {
      "cell_type": "markdown",
      "metadata": {
        "id": "g-DKyeRv1KNU"
      },
      "source": [
        "EM, more formally\n",
        "-----\n",
        "\n",
        "Alternates between performing:\n",
        "\n",
        "- __Expectation (E)__ step: Using the current estimate for the parameters, create function for the expectation of the log-likelihood.  \n",
        "\n",
        "- __Maximization (M)__ step: Computes parameters maximizing the expected log-likelihood found on the E step. "
      ]
    },
    {
      "cell_type": "markdown",
      "metadata": {
        "id": "BEaphNTV1KNU"
      },
      "source": [
        "The M parameter-estimates are then used to determine the distribution of the latent variables in the next E step."
      ]
    },
    {
      "cell_type": "markdown",
      "metadata": {
        "id": "690HmGB21KNU"
      },
      "source": [
        "EM is trying to maximize the following function:\n",
        "\n",
        "- X is directly observed variable\n",
        "- θ parameters of model\n",
        "- Z is not directly observed / latent variable\n",
        "    - Z is a joint (related) distribution on x."
      ]
    },
    {
      "cell_type": "markdown",
      "metadata": {
        "id": "-a_YQkro1KNU"
      },
      "source": [
        "EM Steps\n",
        "-----\n",
        "\n",
        "1. Initialize the parameters θ\n",
        "2. Compute the best values for Z given θ  \n",
        "3. Use the computed values of Z to compute a better estimate for the θ  \n",
        "4. Iterate steps 2 and 3 until convergence"
      ]
    },
    {
      "cell_type": "markdown",
      "metadata": {
        "id": "R7JGX4ie1KNU"
      },
      "source": [
        "EM steps, stated another way\n",
        "-----\n",
        "\n",
        "1. Initialize the parameters of the models, either randomly or doing a \"smart seeding\"\n",
        "\n",
        "2. E Step: Find the posterior probabilities of the latent variable given current parameter values.\n",
        "\n",
        "3. M Step: Reestimate the parameter values given the current posterior probabilities.\n",
        "\n",
        "4. Repeat 2-3 monitoring the likelihood function likelihood. Hope for convergence.\n",
        "\n",
        "![alt text](http://i.imgur.com/0cTmOja.png \"Logo Title Text 1\")\n",
        "\n",
        "![alt text](http://i.imgur.com/8kQ9aa6.png \"Logo Title Text 1\")\n",
        "\n",
        "![alt text](http://i.imgur.com/A1j3lqB.png \"Logo Title Text 1\")"
      ]
    },
    {
      "cell_type": "markdown",
      "metadata": {
        "id": "AAGwsGSg1KNU"
      },
      "source": [
        "Back to our data\n",
        "-----\n",
        "\n"
      ]
    },
    {
      "cell_type": "code",
      "execution_count": null,
      "metadata": {
        "collapsed": true,
        "id": "p26sFZoK1KNU"
      },
      "outputs": [],
      "source": [
        "class Gaussian:\n",
        "    \"Model univariate Gaussian\"\n",
        "    def __init__(self, mu, sigma):\n",
        "        #mean and standard deviation\n",
        "        self.mu = mu\n",
        "        self.sigma = sigma\n",
        "\n",
        "    #probability density function\n",
        "    def pdf(self, datum):\n",
        "        \"Probability of a data point given the current parameters\"\n",
        "        u = (datum - self.mu) / abs(self.sigma)\n",
        "        y = (1 / (sqrt(2 * pi) * abs(self.sigma))) * exp(-u * u / 2)\n",
        "        return y\n",
        "    #printing model values\n",
        "    def __repr__(self):\n",
        "        return 'Gaussian({0:4.6}, {1:4.6})'.format(self.mu, self.sigma)"
      ]
    },
    {
      "cell_type": "code",
      "execution_count": 27,
      "metadata": {
        "colab": {
          "base_uri": "https://localhost:8080/"
        },
        "id": "Bxa4GTWn1KNV",
        "outputId": "86892dd4-1c4c-471d-ba5d-9aae0f01aaa2"
      },
      "outputs": [
        {
          "output_type": "stream",
          "name": "stdout",
          "text": [
            "Best single Gaussian: μ = 1.9, σ = 1.8\n"
          ]
        }
      ],
      "source": [
        "#gaussian of best fit\n",
        "best_single = Gaussian(np.mean(data), np.std(data))\n",
        "print('Best single Gaussian: μ = {:.2}, σ = {:.2}'.format(best_single.mu, best_single.sigma))"
      ]
    },
    {
      "cell_type": "code",
      "execution_count": 28,
      "metadata": {
        "colab": {
          "base_uri": "https://localhost:8080/",
          "height": 335
        },
        "id": "cNxsCK4N1KNV",
        "outputId": "f0b1a874-3a63-426b-ed48-d3422349f5f1"
      },
      "outputs": [
        {
          "output_type": "stream",
          "name": "stderr",
          "text": [
            "/usr/local/lib/python3.7/dist-packages/seaborn/distributions.py:2619: FutureWarning: `distplot` is a deprecated function and will be removed in a future version. Please adapt your code to use either `displot` (a figure-level function with similar flexibility) or `histplot` (an axes-level function for histograms).\n",
            "  warnings.warn(msg, FutureWarning)\n"
          ]
        },
        {
          "output_type": "display_data",
          "data": {
            "text/plain": [
              "<Figure size 432x288 with 1 Axes>"
            ],
            "image/png": "[encoded data removed]"
          },
          "metadata": {
            "needs_background": "light"
          }
        }
      ],
      "source": [
        "#fit a single gaussian curve to the data\n",
        "x = np.linspace(-6, 8, 200)\n",
        "g_single = stats.norm(best_single.mu, best_single.sigma).pdf(x)\n",
        "sns.distplot(data, bins=20, kde=False, norm_hist=True)\n",
        "plt.plot(x, g_single, label='single gaussian')\n",
        "plt.legend();"
      ]
    },
    {
      "cell_type": "code",
      "execution_count": 29,
      "metadata": {
        "collapsed": true,
        "id": "H_lQt7l51KNV"
      },
      "outputs": [],
      "source": [
        "from math import sqrt, log, exp, pi\n",
        "from random import uniform"
      ]
    },
    {
      "cell_type": "markdown",
      "metadata": {
        "id": "UQwkiFr31KNV"
      },
      "source": [
        "![alt text](http://i.imgur.com/kbD23Cv.jpg \"Logo Title Text 1\")\n"
      ]
    },
    {
      "cell_type": "code",
      "execution_count": 30,
      "metadata": {
        "collapsed": true,
        "id": "FAAkz3Ag1KNV"
      },
      "outputs": [],
      "source": [
        "class GaussianMixture:\n",
        "    \"Model mixture of two univariate Gaussians and their EM estimation\"\n",
        "\n",
        "    def __init__(self, data, mu_min=min(data), mu_max=max(data), sigma_min=.1, sigma_max=1, mix=.5):\n",
        "        self.data = data\n",
        "        #init with multiple gaussians\n",
        "        self.one = Gaussian(uniform(mu_min, mu_max), \n",
        "                            uniform(sigma_min, sigma_max))\n",
        "        self.two = Gaussian(uniform(mu_min, mu_max), \n",
        "                            uniform(sigma_min, sigma_max))\n",
        "        \n",
        "        #as well as how much to mix them\n",
        "        self.mix = mix\n",
        "        self.loglike = 0\n",
        "\n",
        "    def Estep(self):\n",
        "        \"Perform an E(stimation)-step, freshening up self.loglike in the process\"\n",
        "        # compute weights\n",
        "        self.loglike = 0. # = log(p = 1)\n",
        "        for datum in self.data:\n",
        "            # unnormalized weights\n",
        "            wp1 = self.one.pdf(datum) * self.mix\n",
        "            wp2 = self.two.pdf(datum) * (1. - self.mix)\n",
        "            # compute denominator\n",
        "            den = wp1 + wp2\n",
        "            # normalize\n",
        "            wp1 /= den\n",
        "            wp2 /= den\n",
        "            # add into loglike\n",
        "            self.loglike += log(wp1 + wp2)\n",
        "            # yield weight tuple\n",
        "            yield (wp1, wp2)\n",
        "\n",
        "    def Mstep(self, weights):\n",
        "        \"Perform an M(aximization)-step\"\n",
        "        # compute denominators\n",
        "        (left, rigt) = zip(*weights)\n",
        "        one_den = sum(left)\n",
        "        two_den = sum(rigt)\n",
        "        # compute new means\n",
        "        self.one.mu = sum(w * d / one_den for (w, d) in zip(left, data))\n",
        "        self.two.mu = sum(w * d / two_den for (w, d) in zip(rigt, data))\n",
        "        # compute new sigmas\n",
        "        self.one.sigma = sqrt(sum(w * ((d - self.one.mu) ** 2)\n",
        "                                  for (w, d) in zip(left, data)) / one_den)\n",
        "        self.two.sigma = sqrt(sum(w * ((d - self.two.mu) ** 2)\n",
        "                                  for (w, d) in zip(rigt, data)) / two_den)\n",
        "        # compute new mix\n",
        "        self.mix = one_den / len(data)\n",
        "\n",
        "    def iterate(self, N=1, verbose=False):\n",
        "      \n",
        "        \"Perform N iterations, then compute log-likelihood\"\n",
        "\n",
        "    def pdf(self, x):\n",
        "        return (self.mix)*self.one.pdf(x) + (1-self.mix)*self.two.pdf(x)\n",
        "        \n",
        "    def __repr__(self):\n",
        "        return 'GaussianMixture({0}, {1}, mix={2.03})'.format(self.one, \n",
        "                                                              self.two, \n",
        "                                                              self.mix)\n",
        "\n",
        "    def __str__(self):\n",
        "        return 'Mixture: {0}, {1}, mix={2:.03})'.format(self.one, \n",
        "                                                        self.two, \n",
        "                                                        self.mix)"
      ]
    },
    {
      "cell_type": "code",
      "execution_count": 31,
      "metadata": {
        "id": "7MdP1NNC1KNW"
      },
      "outputs": [],
      "source": [
        "# Check out the fitting process\n",
        "n_iterations = 5\n",
        "best_mix = None\n",
        "best_loglike = float('-inf')\n",
        "mix = GaussianMixture(data)\n",
        "for _ in range(n_iterations):\n",
        "    try:\n",
        "        #train!\n",
        "        mix.iterate(verbose=True)\n",
        "        if mix.loglike > best_loglike:\n",
        "            best_loglike = mix.loglike\n",
        "            best_mix = mix\n",
        "        \n",
        "    except (ZeroDivisionError, ValueError, RuntimeWarning): # Catch division errors from bad starts, and just throw them out...\n",
        "        pass"
      ]
    },
    {
      "cell_type": "code",
      "execution_count": 32,
      "metadata": {
        "colab": {
          "base_uri": "https://localhost:8080/"
        },
        "id": "hfhAOa8-1KNW",
        "outputId": "db1ed941-6aa3-4c67-9309-846922c59359"
      },
      "outputs": [
        {
          "output_type": "stream",
          "name": "stdout",
          "text": [
            "Computing best model with random restarts...\n",
            "\n",
            "\n",
            "\n",
            "Done. 🙂\n"
          ]
        }
      ],
      "source": [
        "# Find best Mixture Gaussian model\n",
        "n_iterations = 20\n",
        "n_random_restarts = 500\n",
        "best_mix = None\n",
        "best_loglike = float('-inf')\n",
        "print('Computing best model with random restarts...\\n')\n",
        "for _ in range(n_random_restarts):\n",
        "    mix = GaussianMixture(data)\n",
        "    for _ in range(n_iterations):\n",
        "        try:\n",
        "            mix.iterate(verbose  = True)\n",
        "            if mix.loglike > best_loglike:\n",
        "                best_loglike = mix.loglike\n",
        "                best_mix = mix\n",
        "        except (ZeroDivisionError, ValueError, RuntimeWarning): # Catch division errors from bad starts, and just throw them out...\n",
        "            pass\n",
        "print('\\n\\nDone. 🙂')"
      ]
    },
    {
      "cell_type": "code",
      "execution_count": 33,
      "metadata": {
        "colab": {
          "base_uri": "https://localhost:8080/",
          "height": 335
        },
        "id": "Wb1_EvUP1KNW",
        "outputId": "9ab3b600-9371-4dd4-a960-99cf0e576ab5"
      },
      "outputs": [
        {
          "output_type": "stream",
          "name": "stderr",
          "text": [
            "/usr/local/lib/python3.7/dist-packages/seaborn/distributions.py:2619: FutureWarning: `distplot` is a deprecated function and will be removed in a future version. Please adapt your code to use either `displot` (a figure-level function with similar flexibility) or `histplot` (an axes-level function for histograms).\n",
            "  warnings.warn(msg, FutureWarning)\n"
          ]
        },
        {
          "output_type": "display_data",
          "data": {
            "text/plain": [
              "<Figure size 432x288 with 1 Axes>"
            ],
            "image/png": "[encoded data removed]"
          },
          "metadata": {
            "needs_background": "light"
          }
        }
      ],
      "source": [
        "#mixture\n",
        "sns.distplot(data, bins=20, kde=False, norm_hist=True)\n",
        "g_both = [best_mix.pdf(e) for e in x]\n",
        "plt.plot(x, g_both, label='gaussian mixture');\n",
        "plt.legend();"
      ]
    },
    {
      "cell_type": "markdown",
      "metadata": {
        "id": "TJ23S81_1KNW"
      },
      "source": [
        "![alt text](http://www.astroml.org/_images/fig_GMM_1D_1.png \"Logo Title Text 1\")"
      ]
    },
    {
      "cell_type": "markdown",
      "metadata": {
        "id": "AbPtow5I1KNW"
      },
      "source": [
        "Summary\n",
        "----\n",
        "\n",
        "- Gaussian Mixture Models (GMM) take our old friend the Gaussian and add another Gaussian(s).\n",
        "- This allows us to model more complex data.\n",
        "- We fit a GMM with the Expectation–Maximization (EM) Algorithm.\n",
        "- Expectation–Maximization (EM) Algorithm is a series of steps to find good parameter estimates when there are latent variables.\n",
        "- EM steps:\n",
        "    1. Initialize the parameter estimates\n",
        "    2. Given the current parameter estimates, find the min log likelihood for Z (data+latent variables)\n",
        "    3. Given the current data, find better parameter estimates\n",
        "    3. Repeat steps 2 & 3\n",
        "- EM can be used beyond GMM\n",
        "- GMM work well but you have to guess the number of Gaussians. Kernel Density Estimation (KDE) does __not__ require that kind of guessing "
      ]
    },
    {
      "cell_type": "markdown",
      "metadata": {
        "id": "Z7T2qwAz1KNW"
      },
      "source": [
        "<br>\n",
        "<br> \n",
        "<br>\n",
        "\n",
        "----"
      ]
    }
  ],
  "metadata": {
    "anaconda-cloud": {},
    "kernelspec": {
      "display_name": "Python 2",
      "language": "python",
      "name": "python2"
    },
    "language_info": {
      "codemirror_mode": {
        "name": "ipython",
        "version": 2
      },
      "file_extension": ".py",
      "mimetype": "text/x-python",
      "name": "python",
      "nbconvert_exporter": "python",
      "pygments_lexer": "ipython2",
      "version": "2.7.12"
    },
    "colab": {
      "name": "intro_to_gmm_&_em.ipynb",
      "provenance": [],
      "include_colab_link": true
    }
  },
  "nbformat": 4,
  "nbformat_minor": 0
}